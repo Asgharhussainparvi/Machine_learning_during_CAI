{
  "nbformat": 4,
  "nbformat_minor": 0,
  "metadata": {
    "colab": {
      "provenance": []
    },
    "kernelspec": {
      "name": "python3",
      "display_name": "Python 3"
    },
    "language_info": {
      "name": "python"
    }
  },
  "cells": [
    {
      "cell_type": "markdown",
      "source": [
        "# Linear Regression Implementation\n",
        "\n",
        "This notebook implements linear regression from scratch. Let's explore the mathematical concepts, implementation details, and visualizations."
      ],
      "metadata": {
        "id": "7rwYcai2vBbn"
      }
    },
    {
      "cell_type": "code",
      "execution_count": 2,
      "metadata": {
        "id": "LPCE0hNUbltd"
      },
      "outputs": [],
      "source": [
        "import numpy as np\n",
        "import matplotlib.pyplot as plt\n",
        "import seaborn as sns\n",
        "from sklearn.model_selection import train_test_split\n",
        "from sklearn.preprocessing import StandardScaler\n",
        "from sklearn.metrics import mean_squared_error, r2_score\n",
        "from sklearn.linear_model import LinearRegression as SklearnLinearRegression"
      ]
    },
    {
      "cell_type": "markdown",
      "source": [
        "The equation of a simple linear regression model is:\n",
        "\\[ Y = wX + b \\]\n",
        "where:\n",
        "- **X** is the input feature\n",
        "- **w** (weight) is the slope\n",
        "- **b** (bias) is the intercept\n",
        "- **Y** is the predicted output\n",
        "\"\"\""
      ],
      "metadata": {
        "id": "KP14xNM0bxaE"
      }
    },
    {
      "cell_type": "code",
      "source": [
        "#sample data\n",
        "np.random.seed(42)\n",
        "X = 2 * np.random.rand(100, 1)\n",
        "y = 4 + 3 * X + np.random.randn(100, 1)  # y = 4 + 3x + noise\n",
        "\n",
        "X_train, X_test, y_train, y_test = train_test_split(X, y, test_size=0.2, random_state=42)"
      ],
      "metadata": {
        "id": "U_bb5Ds0bso2"
      },
      "execution_count": 3,
      "outputs": []
    },
    {
      "cell_type": "code",
      "source": [
        "#data visu\n",
        "plt.scatter(X, y, color='blue', label='Data')\n",
        "plt.xlabel(\"X (Feature)\")\n",
        "plt.ylabel(\"y (Target)\")\n",
        "plt.title(\"Generated Data for Linear Regression\")\n",
        "plt.legend()\n",
        "plt.show()\n"
      ],
      "metadata": {
        "colab": {
          "base_uri": "https://localhost:8080/",
          "height": 472
        },
        "id": "Tt2Q7vy4b3N8",
        "outputId": "36a0a326-31a1-4e3f-fcb5-427458e0f98f"
      },
      "execution_count": 5,
      "outputs": [
        {
          "output_type": "display_data",
          "data": {
            "text/plain": [
              "<Figure size 640x480 with 1 Axes>"
            ],
            "image/png": "[encoded data removed]"
          },
          "metadata": {}
        }
      ]
    },
    {
      "cell_type": "markdown",
      "source": [
        "\"\"\"\n",
        "## Cost Function\n",
        "We use **Mean Squared Error (MSE)** as the cost function:\n",
        "\\[ J(w, b) = \\frac{1}{2m} \\sum_{i=1}^{m} (f_wb - y_i)^2 \\]\n",
        "This measures how well our model is predicting the target variable.\n",
        "\"\"\""
      ],
      "metadata": {
        "id": "n88VTis9b-TQ"
      }
    },
    {
      "cell_type": "code",
      "source": [
        "\n",
        "def compute_cost(x, y, w, b):\n",
        "    m = x.shape[0]\n",
        "\n",
        "    cost_sum = 0\n",
        "    for i in range(m):\n",
        "        f_wb = w * x[i] + b\n",
        "        cost = (f_wb - y[i]) ** 2\n",
        "        cost_sum = cost_sum + cost\n",
        "    total_cost = (1 / (2 * m)) * cost_sum\n",
        "\n",
        "    return total_cost"
      ],
      "metadata": {
        "id": "zk5P5wTGb50J"
      },
      "execution_count": 8,
      "outputs": []
    },
    {
      "cell_type": "markdown",
      "source": [
        "## Gradient Descent\n",
        "Gradient Descent is an optimization algorithm used to minimize the cost function by updating parameters iteratively.\n",
        "The update rule:\n",
        "\\[ w := w - \\alpha \\frac{\\partial J}{\\partial w} \\]\n",
        "\\[ b := b - \\alpha \\frac{\\partial J}{\\partial b} \\]\n",
        "where **\\alpha** is the learning rate."
      ],
      "metadata": {
        "id": "qGbhUcTTcLgl"
      }
    },
    {
      "cell_type": "code",
      "source": [
        "def compute_gradient(x, y, w, b):\n",
        "    m = x.shape[0]\n",
        "    dj_dw = 0\n",
        "    dj_db = 0\n",
        "\n",
        "    for i in range(m):\n",
        "        f_wb = w * x[i] + b\n",
        "        dj_dw_i = (f_wb - y[i]) * x[i]\n",
        "        dj_db_i = f_wb - y[i]\n",
        "        dj_db += dj_db_i\n",
        "        dj_dw += dj_dw_i\n",
        "    dj_dw = dj_dw / m\n",
        "    dj_db = dj_db / m\n",
        "\n",
        "    return dj_dw, dj_db\n",
        "\n",
        "def gradient_descent(X, y, w_init, b_init, alpha, num_iters):\n",
        "    w, b = w_init, b_init\n",
        "    cost_history = []\n",
        "    for i in range(num_iters):\n",
        "        dj_dw, dj_db = compute_gradient(X, y, w, b)\n",
        "        w -= alpha * dj_dw\n",
        "        b -= alpha * dj_db\n",
        "        cost = compute_cost(X, y, w, b)\n",
        "        cost_history.append(cost)\n",
        "        if i % 100 == 0:\n",
        "            print(f\"Iteration {i}: Cost {cost}\")\n",
        "    return w, b, cost_history"
      ],
      "metadata": {
        "id": "9fY9G1cncEXU"
      },
      "execution_count": 9,
      "outputs": []
    },
    {
      "cell_type": "code",
      "source": [
        "# Train Model\n",
        "w_init, b_init = 0, 0\n",
        "alpha = 0.1\n",
        "num_iters = 1000\n",
        "w_opt, b_opt, cost_history = gradient_descent(X_train, y_train, w_init, b_init, alpha, num_iters)\n"
      ],
      "metadata": {
        "colab": {
          "base_uri": "https://localhost:8080/"
        },
        "id": "SlMN632GcUJg",
        "outputId": "e2ab2d95-778e-4f26-d8fb-6da75a33e36b"
      },
      "execution_count": 10,
      "outputs": [
        {
          "output_type": "stream",
          "name": "stdout",
          "text": [
            "Iteration 0: Cost [15.76147873]\n",
            "Iteration 100: Cost [0.42814094]\n",
            "Iteration 200: Cost [0.42399229]\n",
            "Iteration 300: Cost [0.42384486]\n",
            "Iteration 400: Cost [0.42383962]\n",
            "Iteration 500: Cost [0.42383944]\n",
            "Iteration 600: Cost [0.42383943]\n",
            "Iteration 700: Cost [0.42383943]\n",
            "Iteration 800: Cost [0.42383943]\n",
            "Iteration 900: Cost [0.42383943]\n"
          ]
        }
      ]
    },
    {
      "cell_type": "code",
      "source": [
        "plt.plot(cost_history)\n",
        "plt.xlabel(\"Iterations\")\n",
        "plt.ylabel(\"Cost (MSE)\")\n",
        "plt.title(\"Gradient Descent Cost Reduction\")\n",
        "plt.show()"
      ],
      "metadata": {
        "colab": {
          "base_uri": "https://localhost:8080/",
          "height": 472
        },
        "id": "u8E_A4-TcXQK",
        "outputId": "267123cf-3035-433e-88ab-01604bad3a32"
      },
      "execution_count": 11,
      "outputs": [
        {
          "output_type": "display_data",
          "data": {
            "text/plain": [
              "<Figure size 640x480 with 1 Axes>"
            ],
            "image/png": "[encoded data removed]"
          },
          "metadata": {}
        }
      ]
    },
    {
      "cell_type": "code",
      "source": [
        "# Predictions & Evaluation\n",
        "predictions = w_opt * X_test + b_opt\n",
        "mse = mean_squared_error(y_test, predictions)\n",
        "r2 = r2_score(y_test, predictions)\n",
        "\n",
        "print(f\"Final Weights: w = {w_opt}, b = {b_opt}\")\n",
        "print(f\"Mean Squared Error: {mse}\")\n",
        "print(f\"R² Score: {r2}\")"
      ],
      "metadata": {
        "colab": {
          "base_uri": "https://localhost:8080/"
        },
        "id": "RmbPo1nxcdI5",
        "outputId": "b0888606-ecca-4ecb-d143-b75c0c00c56d"
      },
      "execution_count": 12,
      "outputs": [
        {
          "output_type": "stream",
          "name": "stdout",
          "text": [
            "Final Weights: w = [2.7993237], b = [4.14291327]\n",
            "Mean Squared Error: 0.6536995222280376\n",
            "R² Score: 0.8072059611079998\n"
          ]
        }
      ]
    },
    {
      "cell_type": "code",
      "source": [
        "# Compare with Scikit-Learn\n",
        "sklearn_model = SklearnLinearRegression()\n",
        "sklearn_model.fit(X_train, y_train)\n",
        "sklearn_predictions = sklearn_model.predict(X_test)"
      ],
      "metadata": {
        "id": "gP99qfJcciBs"
      },
      "execution_count": 13,
      "outputs": []
    },
    {
      "cell_type": "code",
      "source": [
        "print(f\"Sklearn Weights: w = {sklearn_model.coef_[0][0]}, b = {sklearn_model.intercept_[0]}\")\n",
        "print(f\"Sklearn MSE: {mean_squared_error(y_test, sklearn_predictions)}\")\n"
      ],
      "metadata": {
        "colab": {
          "base_uri": "https://localhost:8080/"
        },
        "id": "7O-wgCANclgz",
        "outputId": "f57c0279-f53b-40cb-899d-f57e0520da8e"
      },
      "execution_count": 14,
      "outputs": [
        {
          "output_type": "stream",
          "name": "stdout",
          "text": [
            "Sklearn Weights: w = 2.7993236574802762, b = 4.142913319458566\n",
            "Sklearn MSE: 0.6536995137170021\n"
          ]
        }
      ]
    },
    {
      "cell_type": "markdown",
      "source": [
        "## Summary\n",
        "- Implemented Linear Regression from scratch.\n",
        "- Used Gradient Descent for optimization.\n",
        "- Visualized cost function reduction.\n",
        "- Compared with Scikit-Learn's implementation."
      ],
      "metadata": {
        "id": "qJn_F__bcsOJ"
      }
    },
    {
      "cell_type": "code",
      "source": [],
      "metadata": {
        "id": "VMTqFtG4cnqD"
      },
      "execution_count": null,
      "outputs": []
    }
  ]
}