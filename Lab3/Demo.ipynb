{
 "cells": [
  {
   "cell_type": "markdown",
   "metadata": {},
   "source": [
    "## Demo"
   ]
  },
  {
   "cell_type": "code",
   "metadata": {
    "ExecuteTime": {
     "end_time": "2025-04-30T11:14:08.610650Z",
     "start_time": "2025-04-30T11:14:02.468300Z"
    }
   },
   "source": [
    "# Install necessary libraries (run only if not already installed)\n",
    "# !pip install ipywidgets scikit-learn matplotlib numpy\n",
    "\n",
    "import numpy as np\n",
    "import matplotlib.pyplot as plt\n",
    "from sklearn.preprocessing import PolynomialFeatures, StandardScaler\n",
    "from sklearn.linear_model import LinearRegression, Ridge, Lasso\n",
    "from sklearn.pipeline import make_pipeline\n",
    "from sklearn.model_selection import train_test_split\n",
    "import ipywidgets as widgets\n",
    "from IPython.display import display\n",
    "from sklearn.metrics import mean_squared_error\n",
    "\n",
    "# --- 1. Use your improved dataset with scaling ---\n",
    "np.random.seed(42)\n",
    "X = np.linspace(0, 1, 100).reshape(-1, 1)\n",
    "true_function = lambda x: 3 * np.sin(10 * x) + x**2\n",
    "y = true_function(X) + np.random.normal(0, 0.5, X.shape)\n",
    "\n",
    "scaler_X = StandardScaler()\n",
    "scaler_y = StandardScaler()\n",
    "X_scaled = scaler_X.fit_transform(X)\n",
    "y_scaled = scaler_y.fit_transform(y.reshape(-1, 1)).ravel()\n",
    "\n",
    "X_train, X_val, y_train, y_val = train_test_split(X_scaled, y_scaled, test_size=0.3, random_state=42)\n",
    "\n",
    "# --- 2. Interactive function ---\n",
    "def update_plot(degree=3, regularization='None', alpha=0.01):\n",
    "    # Choose model\n",
    "    if regularization == 'None':\n",
    "        model = make_pipeline(PolynomialFeatures(degree), LinearRegression())\n",
    "        title = f\"Linear Regression (Degree={degree})\"\n",
    "    elif regularization == 'Ridge':\n",
    "        model = make_pipeline(PolynomialFeatures(degree), Ridge(alpha=alpha))\n",
    "        title = f\"Ridge Regression (Degree={degree}, alpha={alpha})\"\n",
    "    else:\n",
    "        model = make_pipeline(PolynomialFeatures(degree), Lasso(alpha=alpha, max_iter=10000))\n",
    "        title = f\"Lasso Regression (Degree={degree}, alpha={alpha})\"\n",
    "    \n",
    "    model.fit(X_train, y_train)\n",
    "    \n",
    "    x_plot = np.linspace(X_scaled.min(), X_scaled.max(), 100).reshape(-1, 1)\n",
    "    y_pred = model.predict(x_plot)\n",
    "    \n",
    "    # Calculate errors (even though we're not displaying them)\n",
    "    train_mse = mean_squared_error(y_train, model.predict(X_train))\n",
    "    val_mse = mean_squared_error(y_val, model.predict(X_val))\n",
    "\n",
    "    # --- 3. Plot only the model fit ---\n",
    "    plt.figure(figsize=(10, 6))\n",
    "    \n",
    "    plt.scatter(X_train, y_train, color='blue', label=\"Training Data\")\n",
    "    plt.scatter(X_val, y_val, color='red', label=\"Validation Data\")\n",
    "    plt.plot(x_plot, y_pred, color='black', label=\"Model Prediction\")\n",
    "    plt.title(title)\n",
    "    plt.xlabel(\"X (scaled)\")\n",
    "    plt.ylabel(\"y (scaled)\")\n",
    "    plt.legend()\n",
    "    plt.grid(True)\n",
    "    plt.ylim(-3, 3)\n",
    "    \n",
    "    # Add error information as text instead of graph\n",
    "    plt.annotate(f\"Training MSE: {train_mse:.4f}\\nValidation MSE: {val_mse:.4f}\", \n",
    "                 xy=(0.02, 0.96), xycoords='axes fraction',\n",
    "                 bbox=dict(boxstyle=\"round,pad=0.3\", fc=\"white\", ec=\"gray\", alpha=0.8))\n",
    "\n",
    "    plt.tight_layout()\n",
    "    plt.show()\n",
    "\n",
    "# --- 4. Widgets ---\n",
    "degree_slider = widgets.IntSlider(value=3, min=1, max=30, step=1, description='Degree:')\n",
    "alpha_slider = widgets.FloatLogSlider(value=0.01, base=10, min=-4, max=1, step=0.1, description='Alpha:')\n",
    "reg_select = widgets.Dropdown(options=['None', 'Ridge', 'Lasso'], value='None', description='Reg:')\n",
    "\n",
    "ui = widgets.VBox([degree_slider, reg_select, alpha_slider])\n",
    "out = widgets.interactive_output(update_plot, {\n",
    "    'degree': degree_slider,\n",
    "    'regularization': reg_select,\n",
    "    'alpha': alpha_slider\n",
    "})\n",
    "\n",
    "# --- 5. Display ---\n",
    "display(ui, out)"
   ],
   "outputs": [
    {
     "data": {
      "text/plain": [
       "VBox(children=(IntSlider(value=3, description='Degree:', max=30, min=1), Dropdown(description='Reg:', options=…"
      ],
      "application/vnd.jupyter.widget-view+json": {
       "version_major": 2,
       "version_minor": 0,
       "model_id": "ea53008973d046a8a957c9ba0bdcfaa3"
      }
     },
     "metadata": {},
     "output_type": "display_data"
    },
    {
     "data": {
      "text/plain": [
       "Output()"
      ],
      "application/vnd.jupyter.widget-view+json": {
       "version_major": 2,
       "version_minor": 0,
       "model_id": "389f6dff90db42e79f92a35faa0acddd"
      }
     },
     "metadata": {},
     "output_type": "display_data"
    }
   ],
   "execution_count": 1
  },
  {
   "cell_type": "code",
   "metadata": {
    "ExecuteTime": {
     "end_time": "2025-04-30T11:30:25.622597Z",
     "start_time": "2025-04-30T11:30:21.955484Z"
    }
   },
   "source": [
    "import numpy as np\n",
    "import matplotlib.pyplot as plt\n",
    "from sklearn.preprocessing import PolynomialFeatures, StandardScaler\n",
    "from sklearn.linear_model import LinearRegression, Ridge, Lasso\n",
    "from sklearn.pipeline import make_pipeline\n",
    "from sklearn.model_selection import train_test_split\n",
    "from sklearn.metrics import mean_squared_error\n",
    "import ipywidgets as widgets\n",
    "from IPython.display import display\n",
    "\n",
    "# --- 1. Generate and scale data ---\n",
    "np.random.seed(42)\n",
    "X = np.linspace(0, 1, 100).reshape(-1, 1)\n",
    "true_function = lambda x: 3 * np.sin(10 * x) + x**2\n",
    "y = true_function(X) + np.random.normal(0, 0.5, X.shape)\n",
    "\n",
    "scaler_X = StandardScaler()\n",
    "scaler_y = StandardScaler()\n",
    "X_scaled = scaler_X.fit_transform(X)\n",
    "y_scaled = scaler_y.fit_transform(y.reshape(-1, 1)).ravel()\n",
    "\n",
    "X_train, X_val, y_train, y_val = train_test_split(X_scaled, y_scaled, test_size=0.3, random_state=42)\n",
    "\n",
    "# --- 2. Interactive error plot function ---\n",
    "def plot_errors(regularization='None', alpha=0.01):\n",
    "    degrees = range(1, 30)\n",
    "    train_errors = []\n",
    "    val_errors = []\n",
    "\n",
    "    for degree in degrees:\n",
    "        if regularization == 'None':\n",
    "            model = make_pipeline(PolynomialFeatures(degree), LinearRegression())\n",
    "        elif regularization == 'Ridge':\n",
    "            model = make_pipeline(PolynomialFeatures(degree), Ridge(alpha=alpha))\n",
    "        else:\n",
    "            model = make_pipeline(PolynomialFeatures(degree), Lasso(alpha=alpha, max_iter=10000))\n",
    "\n",
    "        model.fit(X_train, y_train)\n",
    "        y_train_pred = model.predict(X_train)\n",
    "        y_val_pred = model.predict(X_val)\n",
    "\n",
    "        train_errors.append(mean_squared_error(y_train, y_train_pred))\n",
    "        val_errors.append(mean_squared_error(y_val, y_val_pred))\n",
    "\n",
    "    # --- 3. Plot ---\n",
    "    plt.figure(figsize=(10, 6))\n",
    "    plt.plot(degrees, train_errors, label=\"Training Error\", color='blue', marker='o')\n",
    "    plt.plot(degrees, val_errors, label=\"Validation Error\", color='red', marker='o')\n",
    "    plt.yscale('log')\n",
    "    plt.xlabel(\"Polynomial Degree\")\n",
    "    plt.ylabel(\"Mean Squared Error\")\n",
    "    plt.title(f\"Bias-Variance Tradeoff with {regularization} Regression (alpha={alpha})\")\n",
    "    plt.legend()\n",
    "    plt.grid(True)\n",
    "    plt.show()\n",
    "\n",
    "# --- 4. Interactive widgets ---\n",
    "reg_select = widgets.Dropdown(options=['None', 'Ridge', 'Lasso'], value='None', description='Reg:')\n",
    "alpha_slider = widgets.FloatLogSlider(value=0.01, base=10, min=-4, max=1, step=0.1, description='Alpha:')\n",
    "\n",
    "ui = widgets.VBox([reg_select, alpha_slider])\n",
    "out = widgets.interactive_output(plot_errors, {\n",
    "    'regularization': reg_select,\n",
    "    'alpha': alpha_slider\n",
    "})\n",
    "\n",
    "# --- 5. Display ---\n",
    "display(ui, out)\n"
   ],
   "outputs": [
    {
     "data": {
      "text/plain": [
       "VBox(children=(Dropdown(description='Reg:', options=('None', 'Ridge', 'Lasso'), value='None'), FloatLogSlider(…"
      ],
      "application/vnd.jupyter.widget-view+json": {
       "version_major": 2,
       "version_minor": 0,
       "model_id": "9a2a840fe51e4ac68ba80b69e6916cd9"
      }
     },
     "metadata": {},
     "output_type": "display_data"
    },
    {
     "data": {
      "text/plain": [
       "Output()"
      ],
      "application/vnd.jupyter.widget-view+json": {
       "version_major": 2,
       "version_minor": 0,
       "model_id": "254253c032e249a58fed383c5cf445e7"
      }
     },
     "metadata": {},
     "output_type": "display_data"
    }
   ],
   "execution_count": 2
  },
  {
   "cell_type": "code",
   "execution_count": null,
   "metadata": {},
   "outputs": [],
   "source": []
  }
 ],
 "metadata": {
  "kernelspec": {
   "display_name": "Python 3",
   "language": "python",
   "name": "python3"
  },
  "language_info": {
   "codemirror_mode": {
    "name": "ipython",
    "version": 3
   },
   "file_extension": ".py",
   "mimetype": "text/x-python",
   "name": "python",
   "nbconvert_exporter": "python",
   "pygments_lexer": "ipython3",
   "version": "3.11.4"
  }
 },
 "nbformat": 4,
 "nbformat_minor": 2
}
