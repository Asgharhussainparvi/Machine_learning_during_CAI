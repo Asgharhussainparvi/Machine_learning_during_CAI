{
 "cells": [
  {
   "cell_type": "code",
   "id": "initial_id",
   "metadata": {
    "collapsed": true,
    "ExecuteTime": {
     "end_time": "2025-04-29T11:06:20.402220Z",
     "start_time": "2025-04-29T11:06:05.700307Z"
    }
   },
   "source": [
    "import numpy as np\n",
    "import pandas as pd\n",
    "import seaborn as sns\n",
    "import matplotlib.pyplot as plt\n",
    "from sklearn.model_selection import train_test_split\n",
    "from sklearn.preprocessing import StandardScaler\n",
    "from sklearn.metrics import accuracy_score,mean_squared_error\n",
    "from sklearn.linear_model import LogisticRegression\n",
    "from sklearn.linear_model import LinearRegression\n",
    "from sklearn.impute import SimpleImputer"
   ],
   "outputs": [],
   "execution_count": 2
  },
  {
   "metadata": {},
   "cell_type": "markdown",
   "source": "Preprocessing",
   "id": "ee9a77aa260189c5"
  },
  {
   "metadata": {
    "ExecuteTime": {
     "end_time": "2025-04-29T08:17:28.072388Z",
     "start_time": "2025-04-29T08:17:27.754558Z"
    }
   },
   "cell_type": "code",
   "source": "data = pd.read_csv('diabetes_dataset.csv')",
   "id": "57b42345c0dc4ef2",
   "outputs": [],
   "execution_count": 2
  },
  {
   "metadata": {
    "ExecuteTime": {
     "end_time": "2025-04-29T08:17:31.194550Z",
     "start_time": "2025-04-29T08:17:31.114195Z"
    }
   },
   "cell_type": "code",
   "source": "data.head()",
   "id": "11dd7eea425b35f4",
   "outputs": [
    {
     "data": {
      "text/plain": [
       "   preg  glu  bp  skin  ins   bmi    ped  age  target\n",
       "0     6  148  72  35.0    0  33.6  0.627   50       1\n",
       "1     1   85  66  29.0    0  26.6  0.351   31       0\n",
       "2     8  183  64   0.0    0  23.3  0.672   32       1\n",
       "3     1   89  66  23.0   94  28.1  0.167   21       0\n",
       "4     0  137  40  35.0  168  43.1  2.288   33       1"
      ],
      "text/html": [
       "<div>\n",
       "<style scoped>\n",
       "    .dataframe tbody tr th:only-of-type {\n",
       "        vertical-align: middle;\n",
       "    }\n",
       "\n",
       "    .dataframe tbody tr th {\n",
       "        vertical-align: top;\n",
       "    }\n",
       "\n",
       "    .dataframe thead th {\n",
       "        text-align: right;\n",
       "    }\n",
       "</style>\n",
       "<table border=\"1\" class=\"dataframe\">\n",
       "  <thead>\n",
       "    <tr style=\"text-align: right;\">\n",
       "      <th></th>\n",
       "      <th>preg</th>\n",
       "      <th>glu</th>\n",
       "      <th>bp</th>\n",
       "      <th>skin</th>\n",
       "      <th>ins</th>\n",
       "      <th>bmi</th>\n",
       "      <th>ped</th>\n",
       "      <th>age</th>\n",
       "      <th>target</th>\n",
       "    </tr>\n",
       "  </thead>\n",
       "  <tbody>\n",
       "    <tr>\n",
       "      <th>0</th>\n",
       "      <td>6</td>\n",
       "      <td>148</td>\n",
       "      <td>72</td>\n",
       "      <td>35.0</td>\n",
       "      <td>0</td>\n",
       "      <td>33.6</td>\n",
       "      <td>0.627</td>\n",
       "      <td>50</td>\n",
       "      <td>1</td>\n",
       "    </tr>\n",
       "    <tr>\n",
       "      <th>1</th>\n",
       "      <td>1</td>\n",
       "      <td>85</td>\n",
       "      <td>66</td>\n",
       "      <td>29.0</td>\n",
       "      <td>0</td>\n",
       "      <td>26.6</td>\n",
       "      <td>0.351</td>\n",
       "      <td>31</td>\n",
       "      <td>0</td>\n",
       "    </tr>\n",
       "    <tr>\n",
       "      <th>2</th>\n",
       "      <td>8</td>\n",
       "      <td>183</td>\n",
       "      <td>64</td>\n",
       "      <td>0.0</td>\n",
       "      <td>0</td>\n",
       "      <td>23.3</td>\n",
       "      <td>0.672</td>\n",
       "      <td>32</td>\n",
       "      <td>1</td>\n",
       "    </tr>\n",
       "    <tr>\n",
       "      <th>3</th>\n",
       "      <td>1</td>\n",
       "      <td>89</td>\n",
       "      <td>66</td>\n",
       "      <td>23.0</td>\n",
       "      <td>94</td>\n",
       "      <td>28.1</td>\n",
       "      <td>0.167</td>\n",
       "      <td>21</td>\n",
       "      <td>0</td>\n",
       "    </tr>\n",
       "    <tr>\n",
       "      <th>4</th>\n",
       "      <td>0</td>\n",
       "      <td>137</td>\n",
       "      <td>40</td>\n",
       "      <td>35.0</td>\n",
       "      <td>168</td>\n",
       "      <td>43.1</td>\n",
       "      <td>2.288</td>\n",
       "      <td>33</td>\n",
       "      <td>1</td>\n",
       "    </tr>\n",
       "  </tbody>\n",
       "</table>\n",
       "</div>"
      ]
     },
     "execution_count": 3,
     "metadata": {},
     "output_type": "execute_result"
    }
   ],
   "execution_count": 3
  },
  {
   "metadata": {
    "ExecuteTime": {
     "end_time": "2025-04-29T08:17:34.066608Z",
     "start_time": "2025-04-29T08:17:33.976071Z"
    }
   },
   "cell_type": "code",
   "source": "data.info()",
   "id": "a10223feb13e555",
   "outputs": [
    {
     "name": "stdout",
     "output_type": "stream",
     "text": [
      "<class 'pandas.core.frame.DataFrame'>\n",
      "RangeIndex: 768 entries, 0 to 767\n",
      "Data columns (total 9 columns):\n",
      " #   Column  Non-Null Count  Dtype  \n",
      "---  ------  --------------  -----  \n",
      " 0   preg    768 non-null    int64  \n",
      " 1   glu     768 non-null    int64  \n",
      " 2   bp      768 non-null    int64  \n",
      " 3   skin    691 non-null    float64\n",
      " 4   ins     768 non-null    int64  \n",
      " 5   bmi     691 non-null    float64\n",
      " 6   ped     768 non-null    float64\n",
      " 7   age     768 non-null    int64  \n",
      " 8   target  768 non-null    int64  \n",
      "dtypes: float64(3), int64(6)\n",
      "memory usage: 54.1 KB\n"
     ]
    }
   ],
   "execution_count": 4
  },
  {
   "metadata": {
    "ExecuteTime": {
     "end_time": "2025-04-29T08:17:37.748243Z",
     "start_time": "2025-04-29T08:17:37.732589Z"
    }
   },
   "cell_type": "code",
   "source": "data.isnull().sum()",
   "id": "436fce887b07db52",
   "outputs": [
    {
     "data": {
      "text/plain": [
       "preg       0\n",
       "glu        0\n",
       "bp         0\n",
       "skin      77\n",
       "ins        0\n",
       "bmi       77\n",
       "ped        0\n",
       "age        0\n",
       "target     0\n",
       "dtype: int64"
      ]
     },
     "execution_count": 5,
     "metadata": {},
     "output_type": "execute_result"
    }
   ],
   "execution_count": 5
  },
  {
   "metadata": {
    "ExecuteTime": {
     "end_time": "2025-04-29T08:19:58.342822Z",
     "start_time": "2025-04-29T08:19:58.276967Z"
    }
   },
   "cell_type": "code",
   "source": [
    "# Mean imputation for numerical columns\n",
    "imputer_mean = SimpleImputer(strategy='mean')\n",
    "data[['skin','bmi']] = imputer_mean.fit_transform(data[['skin','bmi']])\n",
    "\n",
    "print('Dataset after mean imputation:')\n",
    "data.head()"
   ],
   "id": "56931b891581f698",
   "outputs": [
    {
     "name": "stdout",
     "output_type": "stream",
     "text": [
      "Dataset after mean imputation:\n"
     ]
    },
    {
     "data": {
      "text/plain": [
       "   preg  glu  bp  skin  ins   bmi    ped  age  target\n",
       "0     6  148  72  35.0    0  33.6  0.627   50       1\n",
       "1     1   85  66  29.0    0  26.6  0.351   31       0\n",
       "2     8  183  64   0.0    0  23.3  0.672   32       1\n",
       "3     1   89  66  23.0   94  28.1  0.167   21       0\n",
       "4     0  137  40  35.0  168  43.1  2.288   33       1"
      ],
      "text/html": [
       "<div>\n",
       "<style scoped>\n",
       "    .dataframe tbody tr th:only-of-type {\n",
       "        vertical-align: middle;\n",
       "    }\n",
       "\n",
       "    .dataframe tbody tr th {\n",
       "        vertical-align: top;\n",
       "    }\n",
       "\n",
       "    .dataframe thead th {\n",
       "        text-align: right;\n",
       "    }\n",
       "</style>\n",
       "<table border=\"1\" class=\"dataframe\">\n",
       "  <thead>\n",
       "    <tr style=\"text-align: right;\">\n",
       "      <th></th>\n",
       "      <th>preg</th>\n",
       "      <th>glu</th>\n",
       "      <th>bp</th>\n",
       "      <th>skin</th>\n",
       "      <th>ins</th>\n",
       "      <th>bmi</th>\n",
       "      <th>ped</th>\n",
       "      <th>age</th>\n",
       "      <th>target</th>\n",
       "    </tr>\n",
       "  </thead>\n",
       "  <tbody>\n",
       "    <tr>\n",
       "      <th>0</th>\n",
       "      <td>6</td>\n",
       "      <td>148</td>\n",
       "      <td>72</td>\n",
       "      <td>35.0</td>\n",
       "      <td>0</td>\n",
       "      <td>33.6</td>\n",
       "      <td>0.627</td>\n",
       "      <td>50</td>\n",
       "      <td>1</td>\n",
       "    </tr>\n",
       "    <tr>\n",
       "      <th>1</th>\n",
       "      <td>1</td>\n",
       "      <td>85</td>\n",
       "      <td>66</td>\n",
       "      <td>29.0</td>\n",
       "      <td>0</td>\n",
       "      <td>26.6</td>\n",
       "      <td>0.351</td>\n",
       "      <td>31</td>\n",
       "      <td>0</td>\n",
       "    </tr>\n",
       "    <tr>\n",
       "      <th>2</th>\n",
       "      <td>8</td>\n",
       "      <td>183</td>\n",
       "      <td>64</td>\n",
       "      <td>0.0</td>\n",
       "      <td>0</td>\n",
       "      <td>23.3</td>\n",
       "      <td>0.672</td>\n",
       "      <td>32</td>\n",
       "      <td>1</td>\n",
       "    </tr>\n",
       "    <tr>\n",
       "      <th>3</th>\n",
       "      <td>1</td>\n",
       "      <td>89</td>\n",
       "      <td>66</td>\n",
       "      <td>23.0</td>\n",
       "      <td>94</td>\n",
       "      <td>28.1</td>\n",
       "      <td>0.167</td>\n",
       "      <td>21</td>\n",
       "      <td>0</td>\n",
       "    </tr>\n",
       "    <tr>\n",
       "      <th>4</th>\n",
       "      <td>0</td>\n",
       "      <td>137</td>\n",
       "      <td>40</td>\n",
       "      <td>35.0</td>\n",
       "      <td>168</td>\n",
       "      <td>43.1</td>\n",
       "      <td>2.288</td>\n",
       "      <td>33</td>\n",
       "      <td>1</td>\n",
       "    </tr>\n",
       "  </tbody>\n",
       "</table>\n",
       "</div>"
      ]
     },
     "execution_count": 6,
     "metadata": {},
     "output_type": "execute_result"
    }
   ],
   "execution_count": 6
  },
  {
   "metadata": {
    "ExecuteTime": {
     "end_time": "2025-04-29T08:22:37.600227Z",
     "start_time": "2025-04-29T08:22:37.578333Z"
    }
   },
   "cell_type": "code",
   "source": "data.isnull().sum()",
   "id": "b511726381b09e5",
   "outputs": [
    {
     "data": {
      "text/plain": [
       "preg      0\n",
       "glu       0\n",
       "bp        0\n",
       "skin      0\n",
       "ins       0\n",
       "bmi       0\n",
       "ped       0\n",
       "age       0\n",
       "target    0\n",
       "dtype: int64"
      ]
     },
     "execution_count": 7,
     "metadata": {},
     "output_type": "execute_result"
    }
   ],
   "execution_count": 7
  },
  {
   "metadata": {
    "ExecuteTime": {
     "end_time": "2025-04-29T08:22:41.687427Z",
     "start_time": "2025-04-29T08:22:41.637024Z"
    }
   },
   "cell_type": "code",
   "source": [
    "columns_for_replacing = ['glu','bp','skin','ins','age']\n",
    "for column in columns_for_replacing:\n",
    "    data[column].replace(0,data[column].mean(),inplace = True)"
   ],
   "id": "b4e9efe02c3a3ea7",
   "outputs": [
    {
     "name": "stderr",
     "output_type": "stream",
     "text": [
      "C:\\Users\\1212a\\AppData\\Local\\Temp\\ipykernel_12652\\539914662.py:3: FutureWarning: A value is trying to be set on a copy of a DataFrame or Series through chained assignment using an inplace method.\n",
      "The behavior will change in pandas 3.0. This inplace method will never work because the intermediate object on which we are setting values always behaves as a copy.\n",
      "\n",
      "For example, when doing 'df[col].method(value, inplace=True)', try using 'df.method({col: value}, inplace=True)' or df[col] = df[col].method(value) instead, to perform the operation inplace on the original object.\n",
      "\n",
      "\n",
      "  data[column].replace(0,data[column].mean(),inplace = True)\n"
     ]
    }
   ],
   "execution_count": 8
  },
  {
   "metadata": {
    "ExecuteTime": {
     "end_time": "2025-04-26T06:57:22.384972Z",
     "start_time": "2025-04-26T06:57:22.331460Z"
    }
   },
   "cell_type": "code",
   "source": "data.head()",
   "id": "2fa2afbd7d641cbc",
   "outputs": [
    {
     "data": {
      "text/plain": [
       "   preg    glu    bp       skin         ins   bmi    ped  age  target\n",
       "0     6  148.0  72.0  35.000000   79.799479  33.6  0.627   50       1\n",
       "1     1   85.0  66.0  29.000000   79.799479  26.6  0.351   31       0\n",
       "2     8  183.0  64.0  20.515195   79.799479  23.3  0.672   32       1\n",
       "3     1   89.0  66.0  23.000000   94.000000  28.1  0.167   21       0\n",
       "4     0  137.0  40.0  35.000000  168.000000  43.1  2.288   33       1"
      ],
      "text/html": [
       "<div>\n",
       "<style scoped>\n",
       "    .dataframe tbody tr th:only-of-type {\n",
       "        vertical-align: middle;\n",
       "    }\n",
       "\n",
       "    .dataframe tbody tr th {\n",
       "        vertical-align: top;\n",
       "    }\n",
       "\n",
       "    .dataframe thead th {\n",
       "        text-align: right;\n",
       "    }\n",
       "</style>\n",
       "<table border=\"1\" class=\"dataframe\">\n",
       "  <thead>\n",
       "    <tr style=\"text-align: right;\">\n",
       "      <th></th>\n",
       "      <th>preg</th>\n",
       "      <th>glu</th>\n",
       "      <th>bp</th>\n",
       "      <th>skin</th>\n",
       "      <th>ins</th>\n",
       "      <th>bmi</th>\n",
       "      <th>ped</th>\n",
       "      <th>age</th>\n",
       "      <th>target</th>\n",
       "    </tr>\n",
       "  </thead>\n",
       "  <tbody>\n",
       "    <tr>\n",
       "      <th>0</th>\n",
       "      <td>6</td>\n",
       "      <td>148.0</td>\n",
       "      <td>72.0</td>\n",
       "      <td>35.000000</td>\n",
       "      <td>79.799479</td>\n",
       "      <td>33.6</td>\n",
       "      <td>0.627</td>\n",
       "      <td>50</td>\n",
       "      <td>1</td>\n",
       "    </tr>\n",
       "    <tr>\n",
       "      <th>1</th>\n",
       "      <td>1</td>\n",
       "      <td>85.0</td>\n",
       "      <td>66.0</td>\n",
       "      <td>29.000000</td>\n",
       "      <td>79.799479</td>\n",
       "      <td>26.6</td>\n",
       "      <td>0.351</td>\n",
       "      <td>31</td>\n",
       "      <td>0</td>\n",
       "    </tr>\n",
       "    <tr>\n",
       "      <th>2</th>\n",
       "      <td>8</td>\n",
       "      <td>183.0</td>\n",
       "      <td>64.0</td>\n",
       "      <td>20.515195</td>\n",
       "      <td>79.799479</td>\n",
       "      <td>23.3</td>\n",
       "      <td>0.672</td>\n",
       "      <td>32</td>\n",
       "      <td>1</td>\n",
       "    </tr>\n",
       "    <tr>\n",
       "      <th>3</th>\n",
       "      <td>1</td>\n",
       "      <td>89.0</td>\n",
       "      <td>66.0</td>\n",
       "      <td>23.000000</td>\n",
       "      <td>94.000000</td>\n",
       "      <td>28.1</td>\n",
       "      <td>0.167</td>\n",
       "      <td>21</td>\n",
       "      <td>0</td>\n",
       "    </tr>\n",
       "    <tr>\n",
       "      <th>4</th>\n",
       "      <td>0</td>\n",
       "      <td>137.0</td>\n",
       "      <td>40.0</td>\n",
       "      <td>35.000000</td>\n",
       "      <td>168.000000</td>\n",
       "      <td>43.1</td>\n",
       "      <td>2.288</td>\n",
       "      <td>33</td>\n",
       "      <td>1</td>\n",
       "    </tr>\n",
       "  </tbody>\n",
       "</table>\n",
       "</div>"
      ]
     },
     "execution_count": 11,
     "metadata": {},
     "output_type": "execute_result"
    }
   ],
   "execution_count": 11
  },
  {
   "metadata": {},
   "cell_type": "markdown",
   "source": "Standardization",
   "id": "9ffce8a10b4939fb"
  },
  {
   "metadata": {
    "ExecuteTime": {
     "end_time": "2025-04-29T08:28:54.350784Z",
     "start_time": "2025-04-29T08:28:53.811352Z"
    }
   },
   "cell_type": "code",
   "source": [
    "# Normalize the data\n",
    "scaler = StandardScaler()\n",
    "\n",
    "\n",
    "#drop target variable from X\n",
    "X = data.drop('target',axis = 1)\n",
    "\n",
    "#create \"y\" containing outcome target variable\n",
    "y = data['target']\n",
    "\n",
    "X_scaled = scaler.fit_transform(X)"
   ],
   "id": "d422407cef4fa635",
   "outputs": [],
   "execution_count": 9
  },
  {
   "metadata": {},
   "cell_type": "markdown",
   "source": "Visualization",
   "id": "109b4bf8937c4d9c"
  },
  {
   "metadata": {
    "ExecuteTime": {
     "end_time": "2025-04-29T08:29:00.207810Z",
     "start_time": "2025-04-29T08:28:57.919775Z"
    }
   },
   "cell_type": "code",
   "source": [
    "# Correlation heatmap\n",
    "plt.figure(figsize=(10, 8))\n",
    "correlation_matrix = data[['preg','glu','bp','skin','ins','bmi','ped','age','target']].corr()\n",
    "sns.heatmap(correlation_matrix, annot=True, cmap='coolwarm', linewidths=0.5)\n",
    "plt.title('Correlation Heatmap')\n",
    "plt.show()"
   ],
   "id": "ea7d3476585a976e",
   "outputs": [
    {
     "data": {
      "text/plain": [
       "<Figure size 1000x800 with 2 Axes>"
      ],
      "image/png": "[encoded data removed]"
     },
     "metadata": {},
     "output_type": "display_data"
    }
   ],
   "execution_count": 10
  },
  {
   "metadata": {},
   "cell_type": "markdown",
   "source": "Training Model ( Linear Regression )",
   "id": "b95c7852232fdf8e"
  },
  {
   "metadata": {
    "ExecuteTime": {
     "end_time": "2025-04-29T11:05:11.563972Z",
     "start_time": "2025-04-29T11:05:09.665294Z"
    }
   },
   "cell_type": "code",
   "source": [
    "X_l = data[['ins']].values\n",
    "Y_l = data['glu'].values\n",
    "# Split the data into training and testing sets\n",
    "X_train_l, X_test_l, y_train_l, y_test_l = train_test_split(X_l, Y_l, test_size=0.2, random_state=41)\n",
    "model_l = LinearRegression()\n",
    "model_l.fit(X_train_l,y_train_l)"
   ],
   "id": "57d9654b41aba79a",
   "outputs": [
    {
     "ename": "NameError",
     "evalue": "name 'data' is not defined",
     "output_type": "error",
     "traceback": [
      "\u001B[1;31m---------------------------------------------------------------------------\u001B[0m",
      "\u001B[1;31mNameError\u001B[0m                                 Traceback (most recent call last)",
      "Cell \u001B[1;32mIn[1], line 1\u001B[0m\n\u001B[1;32m----> 1\u001B[0m X_l \u001B[38;5;241m=\u001B[39m \u001B[43mdata\u001B[49m[[\u001B[38;5;124m'\u001B[39m\u001B[38;5;124mins\u001B[39m\u001B[38;5;124m'\u001B[39m]]\u001B[38;5;241m.\u001B[39mvalues\n\u001B[0;32m      2\u001B[0m Y_l \u001B[38;5;241m=\u001B[39m data[\u001B[38;5;124m'\u001B[39m\u001B[38;5;124mglu\u001B[39m\u001B[38;5;124m'\u001B[39m]\u001B[38;5;241m.\u001B[39mvalues\n\u001B[0;32m      3\u001B[0m \u001B[38;5;66;03m# Split the data into training and testing sets\u001B[39;00m\n",
      "\u001B[1;31mNameError\u001B[0m: name 'data' is not defined"
     ]
    }
   ],
   "execution_count": 1
  },
  {
   "metadata": {},
   "cell_type": "markdown",
   "source": "Training Model",
   "id": "51e26de8c53a06e8"
  },
  {
   "metadata": {
    "ExecuteTime": {
     "end_time": "2025-04-29T08:30:02.161395Z",
     "start_time": "2025-04-29T08:30:02.062422Z"
    }
   },
   "cell_type": "code",
   "source": [
    "# Split the data into training and testing sets\n",
    "X_train, X_test, y_train, y_test = train_test_split(X_scaled, y, test_size=0.2, random_state=41)"
   ],
   "id": "71a3bd922fe9b593",
   "outputs": [],
   "execution_count": 11
  },
  {
   "metadata": {
    "ExecuteTime": {
     "end_time": "2025-04-26T06:59:12.650832Z",
     "start_time": "2025-04-26T06:59:12.593528Z"
    }
   },
   "cell_type": "code",
   "source": [
    "# Train logistic regression model using Scikit-Learn\n",
    "model = LogisticRegression()\n",
    "model.fit(X_train, y_train)\n"
   ],
   "id": "8d2405006a3c991b",
   "outputs": [],
   "execution_count": 20
  },
  {
   "metadata": {},
   "cell_type": "markdown",
   "source": "Testing Model",
   "id": "fab3c08933748866"
  },
  {
   "metadata": {
    "ExecuteTime": {
     "end_time": "2025-04-26T07:11:34.029624Z",
     "start_time": "2025-04-26T07:11:32.952547Z"
    }
   },
   "cell_type": "code",
   "source": [
    "# Evaluate the model\n",
    "y_pred = model.predict(X_test)"
   ],
   "id": "6ea3e98e8b6fb4af",
   "outputs": [],
   "execution_count": 27
  },
  {
   "metadata": {
    "ExecuteTime": {
     "end_time": "2025-04-26T07:03:17.768489Z",
     "start_time": "2025-04-26T07:03:17.722160Z"
    }
   },
   "cell_type": "code",
   "source": [
    "accuracy = accuracy_score(y_test,y_pred)\n",
    "print(f\"Accuracy: {accuracy:.4f}\")"
   ],
   "id": "c43e15b76c13591",
   "outputs": [
    {
     "name": "stdout",
     "output_type": "stream",
     "text": [
      "Accuracy: 0.7857\n"
     ]
    }
   ],
   "execution_count": 26
  },
  {
   "metadata": {},
   "cell_type": "markdown",
   "source": "Checking for new Datapoints\n",
   "id": "69548b13daf1ac2b"
  },
  {
   "metadata": {
    "ExecuteTime": {
     "end_time": "2025-04-26T07:00:38.484908Z",
     "start_time": "2025-04-26T07:00:36.214832Z"
    }
   },
   "cell_type": "code",
   "source": "data.tail(3)",
   "id": "5dec30361c1bf268",
   "outputs": [
    {
     "data": {
      "text/plain": [
       "     preg    glu    bp       skin         ins   bmi    ped  age  target\n",
       "765     5  121.0  72.0  23.000000  112.000000  26.2  0.245   30       0\n",
       "766     1  126.0  60.0  20.515195   79.799479  30.1  0.349   47       1\n",
       "767     1   93.0  70.0  31.000000   79.799479  30.4  0.315   23       0"
      ],
      "text/html": [
       "<div>\n",
       "<style scoped>\n",
       "    .dataframe tbody tr th:only-of-type {\n",
       "        vertical-align: middle;\n",
       "    }\n",
       "\n",
       "    .dataframe tbody tr th {\n",
       "        vertical-align: top;\n",
       "    }\n",
       "\n",
       "    .dataframe thead th {\n",
       "        text-align: right;\n",
       "    }\n",
       "</style>\n",
       "<table border=\"1\" class=\"dataframe\">\n",
       "  <thead>\n",
       "    <tr style=\"text-align: right;\">\n",
       "      <th></th>\n",
       "      <th>preg</th>\n",
       "      <th>glu</th>\n",
       "      <th>bp</th>\n",
       "      <th>skin</th>\n",
       "      <th>ins</th>\n",
       "      <th>bmi</th>\n",
       "      <th>ped</th>\n",
       "      <th>age</th>\n",
       "      <th>target</th>\n",
       "    </tr>\n",
       "  </thead>\n",
       "  <tbody>\n",
       "    <tr>\n",
       "      <th>765</th>\n",
       "      <td>5</td>\n",
       "      <td>121.0</td>\n",
       "      <td>72.0</td>\n",
       "      <td>23.000000</td>\n",
       "      <td>112.000000</td>\n",
       "      <td>26.2</td>\n",
       "      <td>0.245</td>\n",
       "      <td>30</td>\n",
       "      <td>0</td>\n",
       "    </tr>\n",
       "    <tr>\n",
       "      <th>766</th>\n",
       "      <td>1</td>\n",
       "      <td>126.0</td>\n",
       "      <td>60.0</td>\n",
       "      <td>20.515195</td>\n",
       "      <td>79.799479</td>\n",
       "      <td>30.1</td>\n",
       "      <td>0.349</td>\n",
       "      <td>47</td>\n",
       "      <td>1</td>\n",
       "    </tr>\n",
       "    <tr>\n",
       "      <th>767</th>\n",
       "      <td>1</td>\n",
       "      <td>93.0</td>\n",
       "      <td>70.0</td>\n",
       "      <td>31.000000</td>\n",
       "      <td>79.799479</td>\n",
       "      <td>30.4</td>\n",
       "      <td>0.315</td>\n",
       "      <td>23</td>\n",
       "      <td>0</td>\n",
       "    </tr>\n",
       "  </tbody>\n",
       "</table>\n",
       "</div>"
      ]
     },
     "execution_count": 22,
     "metadata": {},
     "output_type": "execute_result"
    }
   ],
   "execution_count": 22
  },
  {
   "metadata": {
    "ExecuteTime": {
     "end_time": "2025-04-26T07:02:14.579948Z",
     "start_time": "2025-04-26T07:02:14.405249Z"
    }
   },
   "cell_type": "code",
   "source": "X_new = np.array([[5,121,72,21,110,24,0.4,43],[6,111,40,21,120,20,0.4,80]])",
   "id": "71e68f1d0151c63b",
   "outputs": [],
   "execution_count": 23
  },
  {
   "metadata": {
    "ExecuteTime": {
     "end_time": "2025-04-26T07:02:33.691444Z",
     "start_time": "2025-04-26T07:02:33.386686Z"
    }
   },
   "cell_type": "code",
   "source": [
    "# Normalize the new data\n",
    "new_data_scaled = scaler.fit_transform(X_new)\n",
    "\n",
    "# Make predictions\n",
    "new_predictions = model.predict(new_data_scaled)\n",
    "\n",
    "print(\"Predictions for new data points:\", new_predictions)"
   ],
   "id": "7e7353047bdc2a2e",
   "outputs": [
    {
     "name": "stdout",
     "output_type": "stream",
     "text": [
      "Predictions for new data points: [1 0]\n"
     ]
    }
   ],
   "execution_count": 24
  },
  {
   "metadata": {},
   "cell_type": "code",
   "outputs": [],
   "execution_count": null,
   "source": "",
   "id": "713c2425f4d11ddc"
  }
 ],
 "metadata": {
  "kernelspec": {
   "display_name": "Python 3",
   "language": "python",
   "name": "python3"
  },
  "language_info": {
   "codemirror_mode": {
    "name": "ipython",
    "version": 2
   },
   "file_extension": ".py",
   "mimetype": "text/x-python",
   "name": "python",
   "nbconvert_exporter": "python",
   "pygments_lexer": "ipython2",
   "version": "2.7.6"
  }
 },
 "nbformat": 4,
 "nbformat_minor": 5
}
