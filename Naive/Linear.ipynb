{
 "cells": [
  {
   "cell_type": "code",
   "metadata": {
    "ExecuteTime": {
     "end_time": "2025-04-21T06:16:44.281080Z",
     "start_time": "2025-04-21T06:16:44.261570Z"
    }
   },
   "source": [
    "import numpy as np"
   ],
   "outputs": [],
   "execution_count": 1
  },
  {
   "cell_type": "code",
   "metadata": {
    "ExecuteTime": {
     "end_time": "2025-04-21T06:17:03.376129Z",
     "start_time": "2025-04-21T06:17:03.333021Z"
    }
   },
   "source": [
    "A = np.array([[2,2],[2,2]])\n",
    "alpha = 0.1\n",
    "itr = 3\n",
    "X  = np.array([[1],[1]])\n",
    "for i in range(itr):\n",
    "    D = A.dot(X)\n",
    "    X = X - alpha * D\n",
    "\n",
    "print(X)"
   ],
   "outputs": [
    {
     "name": "stdout",
     "output_type": "stream",
     "text": [
      "[[0.216]\n",
      " [0.216]]\n"
     ]
    }
   ],
   "execution_count": 2
  },
  {
   "cell_type": "code",
   "execution_count": 7,
   "metadata": {},
   "outputs": [
    {
     "name": "stdout",
     "output_type": "stream",
     "text": [
      "[[-0.836]\n",
      " [-0.957]]\n"
     ]
    }
   ],
   "source": [
    "A = np.array([[2,-3],[-3,6]])\n",
    "alpha = 0.1\n",
    "itr = 3\n",
    "b = np.array([[2],[5]])\n",
    "X = np.array([[0],[0]])\n",
    "for i in range(itr):\n",
    "    D = A.dot(X) + b\n",
    "    X = X - alpha * D\n",
    "print(X)"
   ]
  },
  {
   "cell_type": "code",
   "execution_count": 3,
   "metadata": {},
   "outputs": [],
   "source": [
    "A = np.array([[4,-3,1],[2,1,-2],[3,-2,4]])\n",
    "b = np.array([[10],[5],[12]])"
   ]
  },
  {
   "cell_type": "code",
   "execution_count": 4,
   "metadata": {},
   "outputs": [],
   "source": [
    "X = np.linalg.inv(A).dot(b)"
   ]
  },
  {
   "cell_type": "code",
   "execution_count": 5,
   "metadata": {},
   "outputs": [
    {
     "data": {
      "text/plain": [
       "array([[3.14285714],\n",
       "       [1.28571429],\n",
       "       [1.28571429]])"
      ]
     },
     "execution_count": 5,
     "metadata": {},
     "output_type": "execute_result"
    }
   ],
   "source": [
    "X"
   ]
  },
  {
   "cell_type": "code",
   "execution_count": 4,
   "metadata": {},
   "outputs": [],
   "source": [
    "A = np.array([[2,-1,1],[3,2,-1],[-1,4,-2]])\n",
    "b = np.array([[2],[4],[9]])"
   ]
  },
  {
   "cell_type": "code",
   "execution_count": 5,
   "metadata": {},
   "outputs": [],
   "source": [
    "X = np.linalg.inv(A).dot(b)"
   ]
  },
  {
   "cell_type": "code",
   "execution_count": 6,
   "metadata": {},
   "outputs": [
    {
     "data": {
      "text/plain": [
       "array([[-0.14285714],\n",
       "       [ 6.71428571],\n",
       "       [ 9.        ]])"
      ]
     },
     "execution_count": 6,
     "metadata": {},
     "output_type": "execute_result"
    }
   ],
   "source": [
    "X"
   ]
  },
  {
   "cell_type": "code",
   "execution_count": null,
   "metadata": {},
   "outputs": [],
   "source": []
  }
 ],
 "metadata": {
  "kernelspec": {
   "display_name": "Python 3",
   "language": "python",
   "name": "python3"
  },
  "language_info": {
   "codemirror_mode": {
    "name": "ipython",
    "version": 3
   },
   "file_extension": ".py",
   "mimetype": "text/x-python",
   "name": "python",
   "nbconvert_exporter": "python",
   "pygments_lexer": "ipython3",
   "version": "3.13.2"
  }
 },
 "nbformat": 4,
 "nbformat_minor": 2
}
