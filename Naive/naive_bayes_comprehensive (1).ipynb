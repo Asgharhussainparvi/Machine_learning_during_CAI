{
 "cells": [
  {
   "cell_type": "markdown",
   "metadata": {},
   "source": [
    "# Naive Bayes Classifier Implementation\n",
    "\n",
    "This notebook provides a step-by-step implementation of the Naive Bayes classifier using the weather dataset. We'll cover:\n",
    "\n",
    "1. Understanding the dataset\n",
    "2. Calculating prior probabilities P(y)\n",
    "3. Computing likelihood probabilities P(x|y)\n",
    "4. Making predictions using the Naive Bayes formula\n",
    "5. Evaluating the model's performance\n"
   ]
  },
  {
   "cell_type": "markdown",
   "metadata": {},
   "source": [
    "## 1. Data Loading and Exploration\n",
    "\n",
    "First, let's load and examine our weather dataset."
   ]
  },
  {
   "cell_type": "code",
   "execution_count": 2,
   "metadata": {},
   "outputs": [
    {
     "name": "stdout",
     "output_type": "stream",
     "text": [
      "Dataset Preview:\n",
      "     Outlook  Temp Humidity Windy Play\n",
      "0      Rainy   Hot     High     f   no\n",
      "1      Rainy   Hot     High     t   no\n",
      "2   Overcast   Hot     High     f  yes\n",
      "3      Sunny  Mild     High     f  yes\n",
      "4      Sunny  Cool   Normal     f  yes\n",
      "5      Sunny  Cool   Normal     t   no\n",
      "6   Overcast  Cool   Normal     t  yes\n",
      "7      Rainy  Mild     High     f   no\n",
      "8      Rainy  Cool   Normal     f  yes\n",
      "9      Sunny  Mild   Normal     f  yes\n",
      "10     Rainy  Mild   Normal     t  yes\n",
      "11  Overcast  Mild     High     t  yes\n",
      "12  Overcast   Hot   Normal     f  yes\n",
      "13     Sunny  Mild     High     t   no\n"
     ]
    },
    {
     "name": "stderr",
     "output_type": "stream",
     "text": [
      "C:\\Users\\1212a\\AppData\\Local\\Temp\\ipykernel_3700\\2891167098.py:16: FutureWarning: The 'delim_whitespace' keyword in pd.read_csv is deprecated and will be removed in a future version. Use ``sep='\\s+'`` instead\n",
      "  df = pd.read_csv('weather.csv', delim_whitespace=True)\n"
     ]
    }
   ],
   "source": [
    "import numpy as np\n",
    "import pandas as pd\n",
    "\n",
    "def pre_processing(df):\n",
    "\n",
    "\t\"\"\" partioning data into features and target \"\"\"\n",
    "\n",
    "\tX = df.drop([df.columns[-1]], axis = 1)\n",
    "\ty = df[df.columns[-1]]\n",
    "\n",
    "\treturn X, y\n",
    "\n",
    "\n",
    "\n",
    "# Load the weather dataset\n",
    "df = pd.read_csv('weather.csv', delim_whitespace=True)\n",
    "print('Dataset Preview:')\n",
    "print(df)\n",
    "\n",
    "# Split into features and target\n",
    "\n",
    "X, y = pre_processing(df)"
   ]
  },
  {
   "cell_type": "code",
   "execution_count": 3,
   "metadata": {},
   "outputs": [
    {
     "name": "stdout",
     "output_type": "stream",
     "text": [
      "Features:\n",
      "      Outlook  Temp Humidity Windy\n",
      "0      Rainy   Hot     High     f\n",
      "1      Rainy   Hot     High     t\n",
      "2   Overcast   Hot     High     f\n",
      "3      Sunny  Mild     High     f\n",
      "4      Sunny  Cool   Normal     f\n",
      "5      Sunny  Cool   Normal     t\n",
      "6   Overcast  Cool   Normal     t\n",
      "7      Rainy  Mild     High     f\n",
      "8      Rainy  Cool   Normal     f\n",
      "9      Sunny  Mild   Normal     f\n",
      "10     Rainy  Mild   Normal     t\n",
      "11  Overcast  Mild     High     t\n",
      "12  Overcast   Hot   Normal     f\n",
      "13     Sunny  Mild     High     t\n"
     ]
    }
   ],
   "source": [
    "print(\"Features:\\n\" , X)"
   ]
  },
  {
   "cell_type": "code",
   "execution_count": 4,
   "metadata": {},
   "outputs": [
    {
     "name": "stdout",
     "output_type": "stream",
     "text": [
      "Labels \n",
      " 0      no\n",
      "1      no\n",
      "2     yes\n",
      "3     yes\n",
      "4     yes\n",
      "5      no\n",
      "6     yes\n",
      "7      no\n",
      "8     yes\n",
      "9     yes\n",
      "10    yes\n",
      "11    yes\n",
      "12    yes\n",
      "13     no\n",
      "Name: Play, dtype: object\n"
     ]
    }
   ],
   "source": [
    "print(\"Labels \\n\", y)"
   ]
  },
  {
   "cell_type": "markdown",
   "metadata": {},
   "source": [
    "## 2. Prior Probabilities\n",
    "\n",
    "The prior probability P(y) represents the probability of each class occurring in the dataset. It's calculated as:\n",
    "\n",
    "P(y) = Count of class y / Total number of samples"
   ]
  },
  {
   "cell_type": "code",
   "execution_count": 5,
   "metadata": {},
   "outputs": [
    {
     "name": "stdout",
     "output_type": "stream",
     "text": [
      "Prior Probabilities P(y):\n",
      "P(Play=yes) = 0.6428571428571429\n",
      "P(Play=no) = 0.35714285714285715\n"
     ]
    }
   ],
   "source": [
    "def calculate_prior_probabilities(y):\n",
    "    counts =  y.value_counts().to_dict()\n",
    "    total_samples = len(y)\n",
    "    for cls in counts:\n",
    "        counts[cls] /= total_samples\n",
    "    return counts\n",
    "\n",
    "# Calculate prior probabilities\n",
    "priors = calculate_prior_probabilities(y)\n",
    "print('Prior Probabilities P(y):')\n",
    "\n",
    "for cls, prob in priors.items():\n",
    "    print(f'P(Play={cls}) = {prob}')"
   ]
  },
  {
   "cell_type": "markdown",
   "metadata": {},
   "source": [
    "## 3. Likelihood Probabilities\n",
    "\n",
    "The likelihood P(x|y) represents the probability of feature x given class y. We use Laplace smoothing to handle zero probabilities:\n",
    "\n",
    "P(x|y) = (Count of x in class y + 1) / (Count of class y + number of unique values)"
   ]
  },
  {
   "cell_type": "code",
   "execution_count": 6,
   "metadata": {},
   "outputs": [],
   "source": [
    "# Calculate class counts for likelihood\n",
    "def calculate_class_counts(X, y):\n",
    "    class_counts = {}\n",
    "    for feature in X.columns:\n",
    "        class_counts[feature] = {}\n",
    "        for value in X[feature].unique():\n",
    "            class_counts[feature][value] = {}\n",
    "            for cls in y.unique():\n",
    "                count = sum((X[feature] == value) & (y == cls))\n",
    "                class_counts[feature][value][cls] = count\n",
    "    return class_counts"
   ]
  },
  {
   "cell_type": "code",
   "execution_count": 7,
   "metadata": {},
   "outputs": [],
   "source": [
    "# Calculate likelihood probabilities\n",
    "def calculate_likelihoods(X, y):\n",
    "    class_counts = calculate_class_counts(X, y)\n",
    "    class_totals = {cls: sum(y == cls) for cls in y.unique()}\n",
    "    \n",
    "    likelihood_table = {}\n",
    "    for feature in X.columns:\n",
    "        likelihood_table[feature] = {}\n",
    "        for value in X[feature].unique():\n",
    "            likelihood_table[feature][value] = {}\n",
    "            for cls in y.unique():\n",
    "                likelihood_table[feature][value][cls] = (\n",
    "                    class_counts[feature][value][cls] / class_totals[cls]\n",
    "                )\n",
    "    return likelihood_table"
   ]
  },
  {
   "cell_type": "code",
   "execution_count": 9,
   "metadata": {},
   "outputs": [
    {
     "name": "stdout",
     "output_type": "stream",
     "text": [
      "Likelihood Table\n"
     ]
    },
    {
     "data": {
      "text/plain": [
       "{'Outlook': {'Rainy': {'no': 0.6, 'yes': 0.2222222222222222},\n",
       "  'Overcast': {'no': 0.0, 'yes': 0.4444444444444444},\n",
       "  'Sunny': {'no': 0.4, 'yes': 0.3333333333333333}},\n",
       " 'Temp': {'Hot': {'no': 0.4, 'yes': 0.2222222222222222},\n",
       "  'Mild': {'no': 0.4, 'yes': 0.4444444444444444},\n",
       "  'Cool': {'no': 0.2, 'yes': 0.3333333333333333}},\n",
       " 'Humidity': {'High': {'no': 0.8, 'yes': 0.3333333333333333},\n",
       "  'Normal': {'no': 0.2, 'yes': 0.6666666666666666}},\n",
       " 'Windy': {'f': {'no': 0.4, 'yes': 0.6666666666666666},\n",
       "  't': {'no': 0.6, 'yes': 0.3333333333333333}}}"
      ]
     },
     "execution_count": 9,
     "metadata": {},
     "output_type": "execute_result"
    }
   ],
   "source": [
    "# Calculate and print likelihood tables\n",
    "print('Likelihood Table')\n",
    "likelihood_table = calculate_likelihoods(X, y)\n",
    "likelihood_table"
   ]
  },
  {
   "cell_type": "markdown",
   "metadata": {},
   "source": [
    "## 4. Making Predictions\n",
    "\n",
    "To make predictions, we use the Naive Bayes formula:\n",
    "\n",
    "P(y|x) = P(y) * P(x|y) / P(x)\n",
    "\n",
    "Which can be expanded to:\n",
    "\n",
    "P(y|x) = P(y) * P(x₁|y) * P(x₂|y) * ... * P(xₙ|y) / P(x)\n",
    "\n",
    "Where:\n",
    "- P(y|x) is the posterior probability of class y given features x\n",
    "- P(y) is the prior probability of class y\n",
    "- P(xᵢ|y) is the likelihood of feature i given class y\n",
    "- P(x) is the evidence (normalizing constant)\n",
    "\n",
    "Since P(x) is constant for all classes, we can simply compare:\n",
    "\n",
    "P(y|x) ∝ P(y) * P(x₁|y) * P(x₂|y) * ... * P(xₙ|y)"
   ]
  },
  {
   "cell_type": "code",
   "execution_count": 21,
   "metadata": {},
   "outputs": [
    {
     "name": "stdout",
     "output_type": "stream",
     "text": [
      "Training Accuracy: 0.93\n"
     ]
    }
   ],
   "source": [
    "def predict_naive_bayes(X_new, priors, likelihood_table):\n",
    "    predictions = []\n",
    "    \n",
    "    for _, sample in X_new.iterrows():\n",
    "        posteriors = {}\n",
    "        \n",
    "        for cls in priors.keys():\n",
    "            posterior = priors[cls]\n",
    "            \n",
    "            for feature, value in sample.items():\n",
    "                if value in likelihood_table[feature]:\n",
    "                    posterior *= likelihood_table[feature][value].get(cls, 1.0)\n",
    "            \n",
    "            posteriors[cls] = posterior\n",
    "        \n",
    "        predictions.append(max(posteriors.items(), key=lambda x: x[1])[0])\n",
    "    \n",
    "    return predictions\n",
    "\n",
    "# Make predictions on training data\n",
    "predictions = predict_naive_bayes(X, priors, likelihood_table)\n",
    "\n",
    "# Calculate accuracy\n",
    "accuracy = sum(predictions == y) / len(y)\n",
    "print(f'Training Accuracy: {accuracy:.2f}')"
   ]
  },
  {
   "cell_type": "markdown",
   "metadata": {},
   "source": [
    "## 5. Testing with New Examples\n",
    "\n",
    "Let's test our classifier with some new weather conditions."
   ]
  },
  {
   "cell_type": "code",
   "execution_count": 24,
   "metadata": {},
   "outputs": [
    {
     "name": "stdout",
     "output_type": "stream",
     "text": [
      "Test Predictions:\n",
      "Query: ['Rainy' 'Mild' 'Normal' 't'] → Prediction: yes\n",
      "Query: ['Overcast' 'Cool' 'Normal' 't'] → Prediction: yes\n",
      "Query: ['Sunny' 'Hot' 'High' 't'] → Prediction: no\n"
     ]
    }
   ],
   "source": [
    "# Test some example queries\n",
    "test_queries = pd.DataFrame([\n",
    "    ['Rainy', 'Mild', 'Normal', 't'],\n",
    "    ['Overcast', 'Cool', 'Normal', 't'],\n",
    "    ['Sunny', 'Hot', 'High', 't']\n",
    "], columns=X.columns)  # FIX: Use X.columns instead of Features\n",
    "\n",
    "predictions = predict_naive_bayes(test_queries, priors, likelihood_table)\n",
    "\n",
    "print('Test Predictions:')\n",
    "for query, pred in zip(test_queries.values, predictions):\n",
    "    print(f'Query: {query} → Prediction: {pred}')\n"
   ]
  },
  {
   "cell_type": "code",
   "execution_count": null,
   "metadata": {},
   "outputs": [],
   "source": []
  }
 ],
 "metadata": {
  "kernelspec": {
   "display_name": "env",
   "language": "python",
   "name": "python3"
  },
  "language_info": {
   "codemirror_mode": {
    "name": "ipython",
    "version": 3
   },
   "file_extension": ".py",
   "mimetype": "text/x-python",
   "name": "python",
   "nbconvert_exporter": "python",
   "pygments_lexer": "ipython3",
   "version": "3.13.2"
  }
 },
 "nbformat": 4,
 "nbformat_minor": 4
}
