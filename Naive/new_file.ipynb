{
 "cells": [
  {
   "cell_type": "code",
   "execution_count": 1,
   "metadata": {},
   "outputs": [
    {
     "name": "stdout",
     "output_type": "stream",
     "text": [
      "Training Accuracy: 0.92\n"
     ]
    }
   ],
   "source": [
    "import pandas as pd\n",
    "import numpy as np\n",
    "\n",
    "# Load the dataset\n",
    "data = pd.read_csv('c:\\\\Users\\\\1212a\\\\Desktop\\\\Probability\\\\Naive\\\\weather2.csv', delimiter=r'\\s+')\n",
    "\n",
    "# Preprocess the data\n",
    "X = data.drop(columns=['Play'])\n",
    "y = data['Play']\n",
    "\n",
    "# Calculate class priors\n",
    "def calculate_priors(y):\n",
    "    priors = y.value_counts(normalize=True).to_dict()\n",
    "    return priors\n",
    "\n",
    "# Calculate likelihoods\n",
    "def calculate_likelihoods(X, y):\n",
    "    likelihoods = {}\n",
    "    for feature in X.columns:\n",
    "        likelihoods[feature] = {}\n",
    "        for value in X[feature].unique():\n",
    "            likelihoods[feature][value] = {}\n",
    "            for cls in y.unique():\n",
    "                likelihoods[feature][value][cls] = ((X[feature] == value) & (y == cls)).sum() / (y == cls).sum()\n",
    "    return likelihoods\n",
    "\n",
    "# Naive Bayes prediction function\n",
    "def predict_naive_bayes(X_new, priors, likelihood_table):\n",
    "    predictions = []\n",
    "    \n",
    "    for _, sample in X_new.iterrows():\n",
    "        posteriors = {}\n",
    "        \n",
    "        for cls in priors.keys():\n",
    "            posterior = priors[cls]\n",
    "            \n",
    "            for feature, value in sample.items():\n",
    "                if feature in likelihood_table and value in likelihood_table[feature]:\n",
    "                    posterior *= likelihood_table[feature][value].get(cls, 1.0)\n",
    "            \n",
    "            posteriors[cls] = posterior\n",
    "        \n",
    "        predictions.append(max(posteriors.items(), key=lambda x: x[1])[0])\n",
    "    \n",
    "    return predictions\n",
    "\n",
    "# Calculate priors and likelihoods\n",
    "priors = calculate_priors(y)\n",
    "likelihoods = calculate_likelihoods(X, y)\n",
    "\n",
    "# Make predictions on training data\n",
    "predictions = predict_naive_bayes(X, priors, likelihoods)\n",
    "\n",
    "# Convert predictions to a NumPy array\n",
    "predictions = np.array(predictions)\n",
    "\n",
    "# Calculate accuracy\n",
    "accuracy = sum(predictions == y) / len(y)\n",
    "print(f'Training Accuracy: {accuracy:.2f}')"
   ]
  },
  {
   "cell_type": "code",
   "execution_count": null,
   "metadata": {},
   "outputs": [],
   "source": []
  }
 ],
 "metadata": {
  "kernelspec": {
   "display_name": "env",
   "language": "python",
   "name": "python3"
  },
  "language_info": {
   "codemirror_mode": {
    "name": "ipython",
    "version": 3
   },
   "file_extension": ".py",
   "mimetype": "text/x-python",
   "name": "python",
   "nbconvert_exporter": "python",
   "pygments_lexer": "ipython3",
   "version": "3.13.2"
  }
 },
 "nbformat": 4,
 "nbformat_minor": 2
}
